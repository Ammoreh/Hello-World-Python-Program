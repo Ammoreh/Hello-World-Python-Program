{
  "nbformat": 4,
  "nbformat_minor": 0,
  "metadata": {
    "colab": {
      "name": "Assignment 1",
      "provenance": [],
      "authorship_tag": "ABX9TyNYF3ASMmYAd1MbztSx8Y1p",
      "include_colab_link": true
    },
    "kernelspec": {
      "name": "python3",
      "display_name": "Python 3"
    },
    "language_info": {
      "name": "python"
    }
  },
  "cells": [
    {
      "cell_type": "markdown",
      "metadata": {
        "id": "view-in-github",
        "colab_type": "text"
      },
      "source": [
        "<a href=\"https://colab.research.google.com/github/Ammoreh/Hello-World-Python-Program/blob/main/Assignment_1.ipynb\" target=\"_parent\"><img src=\"https://colab.research.google.com/assets/colab-badge.svg\" alt=\"Open In Colab\"/></a>"
      ]
    },
    {
      "cell_type": "code",
      "metadata": {
        "colab": {
          "base_uri": "https://localhost:8080/"
        },
        "id": "CUzQDyGEXm20",
        "outputId": "0061bed4-647c-4ee3-a742-04d51fe6c816"
      },
      "source": [
        "#Enter first and last name\n",
        "firstname = input(\"Enter first name \")\n",
        "\n",
        "lastname = input(\"Enter last name \")\n",
        "\n",
        "\n",
        "#Enter your goals for this class\n",
        "print(\"What are your goals for this class - long term goals?\")\n",
        "goals = input('What would you like to be....when all is said and done with the class?')\n",
        "print()\n",
        "print(\"First Name: \" + firstname + \" Last Name: \" + lastname)\n",
        "print(goals)\n"
      ],
      "execution_count": 4,
      "outputs": [
        {
          "output_type": "stream",
          "text": [
            "Enter first name Amos\n",
            "Enter last name Musembi\n",
            "What are your goals for this class - long term goals?\n",
            "What would you like to be....when all is said and done with the class?To be the best pythonista\n",
            "\n",
            "First Name: Amos Last Name: Musembi\n",
            "To be the best pythonista\n"
          ],
          "name": "stdout"
        }
      ]
    }
  ]
}